{
 "cells": [
  {
   "cell_type": "code",
   "execution_count": 33,
   "metadata": {},
   "outputs": [],
   "source": [
    "import requests\n",
    "from time import sleep\n",
    "import pandas as pd\n",
    "from os import mkdir, path"
   ]
  },
  {
   "cell_type": "code",
   "execution_count": 2,
   "metadata": {},
   "outputs": [],
   "source": [
    "addresses = {\n",
    "    \"UniswapV3Factory\": \"0x1F98431c8aD98523631AE4a59f267346ea31F984\",\n",
    "    \"Multicall2\": \"0x5BA1e12693Dc8F9c48aAD8770482f4739bEeD696\",\n",
    "    \"ProxyAdmin\": \"0xB753548F6E010e7e680BA186F9Ca1BdAB2E90cf2\",\n",
    "    \"TickLens\": \"0xbfd8137f7d1516D3ea5cA83523914859ec47F573\",\n",
    "    \"Quoter\": \"0xb27308f9F90D607463bb33eA1BeBb41C27CE5AB6\",\n",
    "    \"SwapRouter\": \"0xE592427A0AEce92De3Edee1F18E0157C05861564\",\n",
    "    \"NFTDescriptor\": \"0x42B24A95702b9986e82d421cC3568932790A48Ec\",\n",
    "    \"NonfungibleTokenPositionDescriptor\": \"0x91ae842A5Ffd8d12023116943e72A606179294f3\",\n",
    "    \"TransparentUpgradeableProxy\": \"0xEe6A57eC80ea46401049E92587E52f5Ec1c24785\",\n",
    "    \"NonfungiblePositionManager\": \"0xC36442b4a4522E871399CD717aBDD847Ab11FE88\",\n",
    "    \"V3Migrator\": \"0xA5644E29708357803b5A882D272c41cC0dF92B34\"\n",
    "}\n",
    "\n",
    "api_key = \"\""
   ]
  },
  {
   "cell_type": "code",
   "execution_count": 5,
   "metadata": {},
   "outputs": [],
   "source": [
    "def get_url(address):\n",
    "    return f\"https://api.etherscan.io/api?module=contract&action=getsourcecode&address={address}&apikey={api_key}\""
   ]
  },
  {
   "cell_type": "code",
   "execution_count": 44,
   "metadata": {},
   "outputs": [],
   "source": [
    "def get_data_from_address(address):\n",
    "    url = get_url(address)\n",
    "    res = requests.get(url)\n",
    "    source = res.json()['result'][0]\n",
    "    true = True\n",
    "    false = False\n",
    "    abi = source['ABI']\n",
    "    if (source['SourceCode'][:2] == ('{{')) and (source['SourceCode'][-2:] == ('}}')):\n",
    "        source = eval(source['SourceCode'][1:-1])\n",
    "        if 'sources' in source:\n",
    "            source = source['sources']\n",
    "        elif 'source' in source:\n",
    "            source = source['source']\n",
    "    elif (source['SourceCode'][0] == '{') and (source['SourceCode'][-1] == '}'):\n",
    "        source = eval(source['SourceCode'])\n",
    "        if 'sources' in source:\n",
    "            source = source['sources']\n",
    "        elif 'source' in source:\n",
    "            source = source['source']\n",
    "    else:\n",
    "        source = {source['ContractName']: {\"content\":source['SourceCode']}}\n",
    "    return source, abi\n"
   ]
  },
  {
   "cell_type": "code",
   "execution_count": 45,
   "metadata": {},
   "outputs": [],
   "source": [
    "res_dict = {}"
   ]
  },
  {
   "cell_type": "code",
   "execution_count": 46,
   "metadata": {},
   "outputs": [
    {
     "name": "stdout",
     "output_type": "stream",
     "text": [
      "UniswapV3Factory\n",
      "Multicall2\n",
      "ProxyAdmin\n",
      "TickLens\n",
      "Quoter\n",
      "SwapRouter\n",
      "Sleeping\n",
      "UniswapV3Factory\n",
      "Multicall2\n",
      "ProxyAdmin\n",
      "TickLens\n",
      "Quoter\n",
      "SwapRouter\n",
      "NFTDescriptor\n",
      "NonfungibleTokenPositionDescriptor\n",
      "TransparentUpgradeableProxy\n",
      "NonfungiblePositionManager\n",
      "V3Migrator\n"
     ]
    }
   ],
   "source": [
    "while True:\n",
    "    try:\n",
    "        for k, v in addresses.items():\n",
    "            print(k)\n",
    "            if k in res_dict:\n",
    "                curr_source, curr_abi = res_dict[k]['source'], res_dict[k]['abi']\n",
    "            else:\n",
    "                curr_source, curr_abi = get_data_from_address(v)\n",
    "                res_dict[k] = {'source': curr_source, 'abi': curr_abi}\n",
    "                sleep(5)\n",
    "        break\n",
    "    except:\n",
    "        print(\"Sleeping\")\n",
    "        sleep(60)"
   ]
  },
  {
   "cell_type": "code",
   "execution_count": null,
   "metadata": {},
   "outputs": [],
   "source": [
    "res_dict.keys"
   ]
  },
  {
   "cell_type": "code",
   "execution_count": 97,
   "metadata": {},
   "outputs": [
    {
     "name": "stdout",
     "output_type": "stream",
     "text": [
      "UniswapV3Factory\n",
      "UniswapV3Factory/contracts/UniswapV3Factory.sol\n",
      "UniswapV3Factory/contracts/interfaces/IUniswapV3Factory.sol\n",
      "UniswapV3Factory/contracts/UniswapV3PoolDeployer.sol\n",
      "UniswapV3Factory/contracts/NoDelegateCall.sol\n",
      "UniswapV3Factory/contracts/UniswapV3Pool.sol\n",
      "UniswapV3Factory/contracts/interfaces/IUniswapV3PoolDeployer.sol\n",
      "UniswapV3Factory/contracts/interfaces/IUniswapV3Pool.sol\n",
      "UniswapV3Factory/contracts/libraries/LowGasSafeMath.sol\n",
      "UniswapV3Factory/contracts/libraries/SafeCast.sol\n",
      "UniswapV3Factory/contracts/libraries/Tick.sol\n",
      "UniswapV3Factory/contracts/libraries/TickBitmap.sol\n",
      "UniswapV3Factory/contracts/libraries/Position.sol\n",
      "UniswapV3Factory/contracts/libraries/Oracle.sol\n",
      "UniswapV3Factory/contracts/libraries/FullMath.sol\n",
      "UniswapV3Factory/contracts/libraries/FixedPoint128.sol\n",
      "UniswapV3Factory/contracts/libraries/TransferHelper.sol\n",
      "UniswapV3Factory/contracts/libraries/TickMath.sol\n",
      "UniswapV3Factory/contracts/libraries/LiquidityMath.sol\n",
      "UniswapV3Factory/contracts/libraries/SqrtPriceMath.sol\n",
      "UniswapV3Factory/contracts/libraries/SwapMath.sol\n",
      "UniswapV3Factory/contracts/interfaces/IERC20Minimal.sol\n",
      "UniswapV3Factory/contracts/interfaces/callback/IUniswapV3MintCallback.sol\n",
      "UniswapV3Factory/contracts/interfaces/callback/IUniswapV3SwapCallback.sol\n",
      "UniswapV3Factory/contracts/interfaces/callback/IUniswapV3FlashCallback.sol\n",
      "UniswapV3Factory/contracts/interfaces/pool/IUniswapV3PoolImmutables.sol\n",
      "UniswapV3Factory/contracts/interfaces/pool/IUniswapV3PoolState.sol\n",
      "UniswapV3Factory/contracts/interfaces/pool/IUniswapV3PoolDerivedState.sol\n",
      "UniswapV3Factory/contracts/interfaces/pool/IUniswapV3PoolActions.sol\n",
      "UniswapV3Factory/contracts/interfaces/pool/IUniswapV3PoolOwnerActions.sol\n",
      "UniswapV3Factory/contracts/interfaces/pool/IUniswapV3PoolEvents.sol\n",
      "UniswapV3Factory/contracts/libraries/BitMath.sol\n",
      "UniswapV3Factory/contracts/libraries/UnsafeMath.sol\n",
      "UniswapV3Factory/contracts/libraries/FixedPoint96.sol\n",
      "Multicall2\n",
      "Multicall2/Multicall2.sol\n",
      "ProxyAdmin\n",
      "ProxyAdmin/Address.sol\n",
      "ProxyAdmin/Context.sol\n",
      "ProxyAdmin/Ownable.sol\n",
      "ProxyAdmin/Proxy.sol\n",
      "ProxyAdmin/ProxyAdmin.sol\n",
      "ProxyAdmin/TransparentUpgradeableProxy.sol\n",
      "ProxyAdmin/UpgradeableProxy.sol\n",
      "TickLens\n",
      "TickLens/contracts/lens/TickLens.sol\n",
      "TickLens/@uniswap/v3-core/contracts/interfaces/IUniswapV3Pool.sol\n",
      "TickLens/contracts/interfaces/ITickLens.sol\n",
      "TickLens/@uniswap/v3-core/contracts/interfaces/pool/IUniswapV3PoolImmutables.sol\n",
      "TickLens/@uniswap/v3-core/contracts/interfaces/pool/IUniswapV3PoolState.sol\n",
      "TickLens/@uniswap/v3-core/contracts/interfaces/pool/IUniswapV3PoolDerivedState.sol\n",
      "TickLens/@uniswap/v3-core/contracts/interfaces/pool/IUniswapV3PoolActions.sol\n",
      "TickLens/@uniswap/v3-core/contracts/interfaces/pool/IUniswapV3PoolOwnerActions.sol\n",
      "TickLens/@uniswap/v3-core/contracts/interfaces/pool/IUniswapV3PoolEvents.sol\n",
      "Quoter\n",
      "Quoter/contracts/lens/Quoter.sol\n",
      "Quoter/@uniswap/v3-core/contracts/libraries/SafeCast.sol\n",
      "Quoter/@uniswap/v3-core/contracts/libraries/TickMath.sol\n",
      "Quoter/@uniswap/v3-core/contracts/interfaces/IUniswapV3Pool.sol\n",
      "Quoter/@uniswap/v3-core/contracts/interfaces/callback/IUniswapV3SwapCallback.sol\n",
      "Quoter/contracts/interfaces/IQuoter.sol\n",
      "Quoter/contracts/base/PeripheryImmutableState.sol\n",
      "Quoter/contracts/libraries/Path.sol\n",
      "Quoter/contracts/libraries/PoolAddress.sol\n",
      "Quoter/contracts/libraries/CallbackValidation.sol\n",
      "Quoter/@uniswap/v3-core/contracts/interfaces/pool/IUniswapV3PoolImmutables.sol\n",
      "Quoter/@uniswap/v3-core/contracts/interfaces/pool/IUniswapV3PoolState.sol\n",
      "Quoter/@uniswap/v3-core/contracts/interfaces/pool/IUniswapV3PoolDerivedState.sol\n",
      "Quoter/@uniswap/v3-core/contracts/interfaces/pool/IUniswapV3PoolActions.sol\n",
      "Quoter/@uniswap/v3-core/contracts/interfaces/pool/IUniswapV3PoolOwnerActions.sol\n",
      "Quoter/@uniswap/v3-core/contracts/interfaces/pool/IUniswapV3PoolEvents.sol\n",
      "Quoter/contracts/interfaces/IPeripheryImmutableState.sol\n",
      "Quoter/contracts/libraries/BytesLib.sol\n",
      "SwapRouter\n",
      "SwapRouter/contracts/SwapRouter.sol\n",
      "SwapRouter/@uniswap/v3-core/contracts/libraries/SafeCast.sol\n",
      "SwapRouter/@uniswap/v3-core/contracts/libraries/TickMath.sol\n",
      "SwapRouter/@uniswap/v3-core/contracts/interfaces/IUniswapV3Pool.sol\n",
      "SwapRouter/contracts/interfaces/ISwapRouter.sol\n",
      "SwapRouter/contracts/base/PeripheryImmutableState.sol\n",
      "SwapRouter/contracts/base/PeripheryValidation.sol\n",
      "SwapRouter/contracts/base/PeripheryPaymentsWithFee.sol\n",
      "SwapRouter/contracts/base/Multicall.sol\n",
      "SwapRouter/contracts/base/SelfPermit.sol\n",
      "SwapRouter/contracts/libraries/Path.sol\n",
      "SwapRouter/contracts/libraries/PoolAddress.sol\n",
      "SwapRouter/contracts/libraries/CallbackValidation.sol\n",
      "SwapRouter/contracts/interfaces/external/IWETH9.sol\n",
      "SwapRouter/@uniswap/v3-core/contracts/interfaces/pool/IUniswapV3PoolImmutables.sol\n",
      "SwapRouter/@uniswap/v3-core/contracts/interfaces/pool/IUniswapV3PoolState.sol\n",
      "SwapRouter/@uniswap/v3-core/contracts/interfaces/pool/IUniswapV3PoolDerivedState.sol\n",
      "SwapRouter/@uniswap/v3-core/contracts/interfaces/pool/IUniswapV3PoolActions.sol\n",
      "SwapRouter/@uniswap/v3-core/contracts/interfaces/pool/IUniswapV3PoolOwnerActions.sol\n",
      "SwapRouter/@uniswap/v3-core/contracts/interfaces/pool/IUniswapV3PoolEvents.sol\n",
      "SwapRouter/@uniswap/v3-core/contracts/interfaces/callback/IUniswapV3SwapCallback.sol\n",
      "SwapRouter/contracts/interfaces/IPeripheryImmutableState.sol\n",
      "SwapRouter/contracts/base/BlockTimestamp.sol\n",
      "SwapRouter/@openzeppelin/contracts/token/ERC20/IERC20.sol\n",
      "SwapRouter/@uniswap/v3-core/contracts/libraries/LowGasSafeMath.sol\n",
      "SwapRouter/contracts/base/PeripheryPayments.sol\n",
      "SwapRouter/contracts/interfaces/IPeripheryPaymentsWithFee.sol\n",
      "SwapRouter/contracts/libraries/TransferHelper.sol\n",
      "SwapRouter/contracts/interfaces/IPeripheryPayments.sol\n",
      "SwapRouter/contracts/interfaces/IMulticall.sol\n",
      "SwapRouter/@openzeppelin/contracts/drafts/IERC20Permit.sol\n",
      "SwapRouter/contracts/interfaces/ISelfPermit.sol\n",
      "SwapRouter/contracts/interfaces/external/IERC20PermitAllowed.sol\n",
      "SwapRouter/contracts/libraries/BytesLib.sol\n",
      "NFTDescriptor\n",
      "NFTDescriptor/contracts/libraries/NFTDescriptor.sol\n",
      "NFTDescriptor/@uniswap/v3-core/contracts/interfaces/IUniswapV3Pool.sol\n",
      "NFTDescriptor/@uniswap/v3-core/contracts/libraries/TickMath.sol\n",
      "NFTDescriptor/@uniswap/v3-core/contracts/libraries/BitMath.sol\n",
      "NFTDescriptor/@uniswap/v3-core/contracts/libraries/FullMath.sol\n",
      "NFTDescriptor/@openzeppelin/contracts/utils/Strings.sol\n",
      "NFTDescriptor/@openzeppelin/contracts/math/SafeMath.sol\n",
      "NFTDescriptor/@openzeppelin/contracts/math/SignedSafeMath.sol\n",
      "NFTDescriptor/base64-sol/base64.sol\n",
      "NFTDescriptor/contracts/libraries/HexStrings.sol\n",
      "NFTDescriptor/contracts/libraries/NFTSVG.sol\n",
      "NFTDescriptor/@uniswap/v3-core/contracts/interfaces/pool/IUniswapV3PoolImmutables.sol\n",
      "NFTDescriptor/@uniswap/v3-core/contracts/interfaces/pool/IUniswapV3PoolState.sol\n",
      "NFTDescriptor/@uniswap/v3-core/contracts/interfaces/pool/IUniswapV3PoolDerivedState.sol\n",
      "NFTDescriptor/@uniswap/v3-core/contracts/interfaces/pool/IUniswapV3PoolActions.sol\n",
      "NFTDescriptor/@uniswap/v3-core/contracts/interfaces/pool/IUniswapV3PoolOwnerActions.sol\n",
      "NFTDescriptor/@uniswap/v3-core/contracts/interfaces/pool/IUniswapV3PoolEvents.sol\n",
      "NonfungibleTokenPositionDescriptor\n",
      "NonfungibleTokenPositionDescriptor/contracts/NonfungibleTokenPositionDescriptor.sol\n",
      "NonfungibleTokenPositionDescriptor/@uniswap/v3-core/contracts/interfaces/IUniswapV3Pool.sol\n",
      "NonfungibleTokenPositionDescriptor/@uniswap/lib/contracts/libraries/SafeERC20Namer.sol\n",
      "NonfungibleTokenPositionDescriptor/contracts/libraries/ChainId.sol\n",
      "NonfungibleTokenPositionDescriptor/contracts/interfaces/INonfungiblePositionManager.sol\n",
      "NonfungibleTokenPositionDescriptor/contracts/interfaces/INonfungibleTokenPositionDescriptor.sol\n",
      "NonfungibleTokenPositionDescriptor/contracts/interfaces/IERC20Metadata.sol\n",
      "NonfungibleTokenPositionDescriptor/contracts/libraries/PoolAddress.sol\n",
      "NonfungibleTokenPositionDescriptor/contracts/libraries/NFTDescriptor.sol\n",
      "NonfungibleTokenPositionDescriptor/contracts/libraries/TokenRatioSortOrder.sol\n",
      "NonfungibleTokenPositionDescriptor/@uniswap/v3-core/contracts/interfaces/pool/IUniswapV3PoolImmutables.sol\n",
      "NonfungibleTokenPositionDescriptor/@uniswap/v3-core/contracts/interfaces/pool/IUniswapV3PoolState.sol\n",
      "NonfungibleTokenPositionDescriptor/@uniswap/v3-core/contracts/interfaces/pool/IUniswapV3PoolDerivedState.sol\n",
      "NonfungibleTokenPositionDescriptor/@uniswap/v3-core/contracts/interfaces/pool/IUniswapV3PoolActions.sol\n",
      "NonfungibleTokenPositionDescriptor/@uniswap/v3-core/contracts/interfaces/pool/IUniswapV3PoolOwnerActions.sol\n",
      "NonfungibleTokenPositionDescriptor/@uniswap/v3-core/contracts/interfaces/pool/IUniswapV3PoolEvents.sol\n",
      "NonfungibleTokenPositionDescriptor/@uniswap/lib/contracts/libraries/AddressStringUtil.sol\n",
      "NonfungibleTokenPositionDescriptor/@openzeppelin/contracts/token/ERC721/IERC721Metadata.sol\n",
      "NonfungibleTokenPositionDescriptor/@openzeppelin/contracts/token/ERC721/IERC721Enumerable.sol\n",
      "NonfungibleTokenPositionDescriptor/contracts/interfaces/IPoolInitializer.sol\n",
      "NonfungibleTokenPositionDescriptor/contracts/interfaces/IERC721Permit.sol\n",
      "NonfungibleTokenPositionDescriptor/contracts/interfaces/IPeripheryPayments.sol\n",
      "NonfungibleTokenPositionDescriptor/contracts/interfaces/IPeripheryImmutableState.sol\n",
      "NonfungibleTokenPositionDescriptor/@openzeppelin/contracts/token/ERC721/IERC721.sol\n",
      "NonfungibleTokenPositionDescriptor/@openzeppelin/contracts/introspection/IERC165.sol\n",
      "NonfungibleTokenPositionDescriptor/@openzeppelin/contracts/token/ERC20/IERC20.sol\n",
      "NonfungibleTokenPositionDescriptor/@uniswap/v3-core/contracts/libraries/TickMath.sol\n",
      "NonfungibleTokenPositionDescriptor/@uniswap/v3-core/contracts/libraries/BitMath.sol\n",
      "NonfungibleTokenPositionDescriptor/@uniswap/v3-core/contracts/libraries/FullMath.sol\n",
      "NonfungibleTokenPositionDescriptor/@openzeppelin/contracts/utils/Strings.sol\n",
      "NonfungibleTokenPositionDescriptor/@openzeppelin/contracts/math/SafeMath.sol\n",
      "NonfungibleTokenPositionDescriptor/@openzeppelin/contracts/math/SignedSafeMath.sol\n",
      "NonfungibleTokenPositionDescriptor/base64-sol/base64.sol\n",
      "NonfungibleTokenPositionDescriptor/contracts/libraries/HexStrings.sol\n",
      "NonfungibleTokenPositionDescriptor/contracts/libraries/NFTSVG.sol\n",
      "TransparentUpgradeableProxy\n",
      "TransparentUpgradeableProxy/Address.sol\n",
      "TransparentUpgradeableProxy/Context.sol\n",
      "TransparentUpgradeableProxy/Ownable.sol\n",
      "TransparentUpgradeableProxy/Proxy.sol\n",
      "TransparentUpgradeableProxy/ProxyAdmin.sol\n",
      "TransparentUpgradeableProxy/TransparentUpgradeableProxy.sol\n",
      "TransparentUpgradeableProxy/UpgradeableProxy.sol\n",
      "NonfungiblePositionManager\n",
      "NonfungiblePositionManager/contracts/NonfungiblePositionManager.sol\n",
      "NonfungiblePositionManager/@uniswap/v3-core/contracts/interfaces/IUniswapV3Pool.sol\n",
      "NonfungiblePositionManager/@uniswap/v3-core/contracts/libraries/FixedPoint128.sol\n",
      "NonfungiblePositionManager/@uniswap/v3-core/contracts/libraries/FullMath.sol\n",
      "NonfungiblePositionManager/contracts/interfaces/INonfungiblePositionManager.sol\n",
      "NonfungiblePositionManager/contracts/interfaces/INonfungibleTokenPositionDescriptor.sol\n",
      "NonfungiblePositionManager/contracts/libraries/PositionKey.sol\n",
      "NonfungiblePositionManager/contracts/libraries/PoolAddress.sol\n",
      "NonfungiblePositionManager/contracts/base/LiquidityManagement.sol\n",
      "NonfungiblePositionManager/contracts/base/PeripheryImmutableState.sol\n",
      "NonfungiblePositionManager/contracts/base/Multicall.sol\n",
      "NonfungiblePositionManager/contracts/base/ERC721Permit.sol\n",
      "NonfungiblePositionManager/contracts/base/PeripheryValidation.sol\n",
      "NonfungiblePositionManager/contracts/base/SelfPermit.sol\n",
      "NonfungiblePositionManager/contracts/base/PoolInitializer.sol\n",
      "NonfungiblePositionManager/@uniswap/v3-core/contracts/interfaces/pool/IUniswapV3PoolImmutables.sol\n",
      "NonfungiblePositionManager/@uniswap/v3-core/contracts/interfaces/pool/IUniswapV3PoolState.sol\n",
      "NonfungiblePositionManager/@uniswap/v3-core/contracts/interfaces/pool/IUniswapV3PoolDerivedState.sol\n",
      "NonfungiblePositionManager/@uniswap/v3-core/contracts/interfaces/pool/IUniswapV3PoolActions.sol\n",
      "NonfungiblePositionManager/@uniswap/v3-core/contracts/interfaces/pool/IUniswapV3PoolOwnerActions.sol\n",
      "NonfungiblePositionManager/@uniswap/v3-core/contracts/interfaces/pool/IUniswapV3PoolEvents.sol\n",
      "NonfungiblePositionManager/@openzeppelin/contracts/token/ERC721/IERC721Metadata.sol\n",
      "NonfungiblePositionManager/@openzeppelin/contracts/token/ERC721/IERC721Enumerable.sol\n",
      "NonfungiblePositionManager/contracts/interfaces/IPoolInitializer.sol\n",
      "NonfungiblePositionManager/contracts/interfaces/IERC721Permit.sol\n",
      "NonfungiblePositionManager/contracts/interfaces/IPeripheryPayments.sol\n",
      "NonfungiblePositionManager/contracts/interfaces/IPeripheryImmutableState.sol\n",
      "NonfungiblePositionManager/@openzeppelin/contracts/token/ERC721/IERC721.sol\n",
      "NonfungiblePositionManager/@openzeppelin/contracts/introspection/IERC165.sol\n",
      "NonfungiblePositionManager/@uniswap/v3-core/contracts/interfaces/IUniswapV3Factory.sol\n",
      "NonfungiblePositionManager/@uniswap/v3-core/contracts/interfaces/callback/IUniswapV3MintCallback.sol\n",
      "NonfungiblePositionManager/@uniswap/v3-core/contracts/libraries/TickMath.sol\n",
      "NonfungiblePositionManager/contracts/libraries/CallbackValidation.sol\n",
      "NonfungiblePositionManager/contracts/libraries/LiquidityAmounts.sol\n",
      "NonfungiblePositionManager/contracts/base/PeripheryPayments.sol\n",
      "NonfungiblePositionManager/@uniswap/v3-core/contracts/libraries/FixedPoint96.sol\n",
      "NonfungiblePositionManager/@openzeppelin/contracts/token/ERC20/IERC20.sol\n",
      "NonfungiblePositionManager/contracts/interfaces/external/IWETH9.sol\n",
      "NonfungiblePositionManager/contracts/libraries/TransferHelper.sol\n",
      "NonfungiblePositionManager/contracts/interfaces/IMulticall.sol\n",
      "NonfungiblePositionManager/@openzeppelin/contracts/token/ERC721/ERC721.sol\n",
      "NonfungiblePositionManager/@openzeppelin/contracts/utils/Address.sol\n",
      "NonfungiblePositionManager/contracts/libraries/ChainId.sol\n",
      "NonfungiblePositionManager/contracts/interfaces/external/IERC1271.sol\n",
      "NonfungiblePositionManager/contracts/base/BlockTimestamp.sol\n",
      "NonfungiblePositionManager/@openzeppelin/contracts/utils/Context.sol\n",
      "NonfungiblePositionManager/@openzeppelin/contracts/token/ERC721/IERC721Receiver.sol\n",
      "NonfungiblePositionManager/@openzeppelin/contracts/introspection/ERC165.sol\n",
      "NonfungiblePositionManager/@openzeppelin/contracts/math/SafeMath.sol\n",
      "NonfungiblePositionManager/@openzeppelin/contracts/utils/EnumerableSet.sol\n",
      "NonfungiblePositionManager/@openzeppelin/contracts/utils/EnumerableMap.sol\n",
      "NonfungiblePositionManager/@openzeppelin/contracts/utils/Strings.sol\n",
      "NonfungiblePositionManager/@openzeppelin/contracts/drafts/IERC20Permit.sol\n",
      "NonfungiblePositionManager/contracts/interfaces/ISelfPermit.sol\n",
      "NonfungiblePositionManager/contracts/interfaces/external/IERC20PermitAllowed.sol\n",
      "V3Migrator\n",
      "V3Migrator/contracts/V3Migrator.sol\n",
      "V3Migrator/@uniswap/v3-core/contracts/libraries/LowGasSafeMath.sol\n",
      "V3Migrator/@uniswap/v2-core/contracts/interfaces/IUniswapV2Pair.sol\n",
      "V3Migrator/contracts/interfaces/INonfungiblePositionManager.sol\n",
      "V3Migrator/contracts/libraries/TransferHelper.sol\n",
      "V3Migrator/contracts/interfaces/IV3Migrator.sol\n",
      "V3Migrator/contracts/base/PeripheryImmutableState.sol\n",
      "V3Migrator/contracts/base/Multicall.sol\n",
      "V3Migrator/contracts/base/SelfPermit.sol\n",
      "V3Migrator/contracts/interfaces/external/IWETH9.sol\n",
      "V3Migrator/contracts/base/PoolInitializer.sol\n",
      "V3Migrator/@openzeppelin/contracts/token/ERC721/IERC721Metadata.sol\n",
      "V3Migrator/@openzeppelin/contracts/token/ERC721/IERC721Enumerable.sol\n",
      "V3Migrator/contracts/interfaces/IPoolInitializer.sol\n",
      "V3Migrator/contracts/interfaces/IERC721Permit.sol\n",
      "V3Migrator/contracts/interfaces/IPeripheryPayments.sol\n",
      "V3Migrator/contracts/interfaces/IPeripheryImmutableState.sol\n",
      "V3Migrator/contracts/libraries/PoolAddress.sol\n",
      "V3Migrator/@openzeppelin/contracts/token/ERC721/IERC721.sol\n",
      "V3Migrator/@openzeppelin/contracts/introspection/IERC165.sol\n",
      "V3Migrator/@openzeppelin/contracts/token/ERC20/IERC20.sol\n",
      "V3Migrator/contracts/interfaces/IMulticall.sol\n",
      "V3Migrator/contracts/interfaces/ISelfPermit.sol\n",
      "V3Migrator/@openzeppelin/contracts/drafts/IERC20Permit.sol\n",
      "V3Migrator/contracts/interfaces/external/IERC20PermitAllowed.sol\n",
      "V3Migrator/@uniswap/v3-core/contracts/interfaces/IUniswapV3Factory.sol\n",
      "V3Migrator/@uniswap/v3-core/contracts/interfaces/IUniswapV3Pool.sol\n",
      "V3Migrator/@uniswap/v3-core/contracts/interfaces/pool/IUniswapV3PoolImmutables.sol\n",
      "V3Migrator/@uniswap/v3-core/contracts/interfaces/pool/IUniswapV3PoolState.sol\n",
      "V3Migrator/@uniswap/v3-core/contracts/interfaces/pool/IUniswapV3PoolDerivedState.sol\n",
      "V3Migrator/@uniswap/v3-core/contracts/interfaces/pool/IUniswapV3PoolActions.sol\n",
      "V3Migrator/@uniswap/v3-core/contracts/interfaces/pool/IUniswapV3PoolOwnerActions.sol\n",
      "V3Migrator/@uniswap/v3-core/contracts/interfaces/pool/IUniswapV3PoolEvents.sol\n"
     ]
    }
   ],
   "source": [
    "abi_df = pd.DataFrame(columns=[\"ContractName\",\"ABI\"])\n",
    "for k,v in res_dict.items():\n",
    "    if not path.exists(k):\n",
    "        mkdir(k)\n",
    "    abi_df = abi_df.append({\"ContractName\": k,\"ABI\": v['abi']},ignore_index=True)\n",
    "    print(k)\n",
    "    vs = v['source']\n",
    "    for ki, vi in vs.items():\n",
    "        kis = ki.split('/')\n",
    "        if len(kis) > 1:\n",
    "            for i in range(len(kis)-1):\n",
    "                to_create = k + '/' + '/'.join(kis[:i+1])\n",
    "                if not path.exists(to_create):\n",
    "                    mkdir(to_create)\n",
    "        fileName = k + '/' + ki\n",
    "        if not (fileName[-4:] == \".sol\"):\n",
    "            fileName += \".sol\"\n",
    "        print(fileName)\n",
    "        with open(fileName, \"w\") as text_file:\n",
    "            out = vi['content'].replace(\"unicode'⚠️\",\"'\")\n",
    "            print(out, file=text_file)"
   ]
  },
  {
   "cell_type": "code",
   "execution_count": 99,
   "metadata": {},
   "outputs": [],
   "source": [
    "abi_df.to_csv('abi_df', index=False)"
   ]
  },
  {
   "cell_type": "code",
   "execution_count": 62,
   "metadata": {},
   "outputs": [
    {
     "data": {
      "text/plain": [
       "'⚠'"
      ]
     },
     "execution_count": 62,
     "metadata": {},
     "output_type": "execute_result"
    }
   ],
   "source": [
    "res_dict[\"NFTDescriptor\"]['source']['contracts/libraries/NFTDescriptor.sol']['content'][5287:5288]"
   ]
  },
  {
   "cell_type": "code",
   "execution_count": 68,
   "metadata": {},
   "outputs": [
    {
     "data": {
      "text/plain": [
       "\"            unicode'️ DISCLAIM\""
      ]
     },
     "execution_count": 68,
     "metadata": {},
     "output_type": "execute_result"
    }
   ],
   "source": [
    "res_dict[\"NFTDescriptor\"]['source']['contracts/libraries/NFTDescriptor.sol']['content'][5267:5298].replace('⚠','')"
   ]
  },
  {
   "cell_type": "code",
   "execution_count": 79,
   "metadata": {},
   "outputs": [
    {
     "data": {
      "text/plain": [
       "False"
      ]
     },
     "execution_count": 79,
     "metadata": {},
     "output_type": "execute_result"
    }
   ],
   "source": [
    "'U+26A0' in out[5267:5298]"
   ]
  },
  {
   "cell_type": "code",
   "execution_count": 78,
   "metadata": {},
   "outputs": [
    {
     "data": {
      "text/plain": [
       "'U+26A0'"
      ]
     },
     "execution_count": 78,
     "metadata": {},
     "output_type": "execute_result"
    }
   ],
   "source": [
    "'U+26A0'"
   ]
  },
  {
   "cell_type": "code",
   "execution_count": 85,
   "metadata": {},
   "outputs": [
    {
     "ename": "UnicodeEncodeError",
     "evalue": "'charmap' codec can't encode character '\\ufe0f' in position 5436: character maps to <undefined>",
     "output_type": "error",
     "traceback": [
      "\u001b[1;31m---------------------------------------------------------------------------\u001b[0m",
      "\u001b[1;31mUnicodeEncodeError\u001b[0m                        Traceback (most recent call last)",
      "Cell \u001b[1;32mIn [85], line 2\u001b[0m\n\u001b[0;32m      1\u001b[0m \u001b[39mwith\u001b[39;00m \u001b[39mopen\u001b[39m(\u001b[39m'\u001b[39m\u001b[39mdei.sol\u001b[39m\u001b[39m'\u001b[39m, \u001b[39m\"\u001b[39m\u001b[39mw\u001b[39m\u001b[39m\"\u001b[39m) \u001b[39mas\u001b[39;00m text_file:\n\u001b[1;32m----> 2\u001b[0m     \u001b[39mprint\u001b[39;49m(out\u001b[39m.\u001b[39;49mencode()\u001b[39m.\u001b[39;49mdecode(), file\u001b[39m=\u001b[39;49mtext_file)\n",
      "File \u001b[1;32mC:\\Program Files\\WindowsApps\\PythonSoftwareFoundation.Python.3.9_3.9.3568.0_x64__qbz5n2kfra8p0\\lib\\encodings\\cp1252.py:19\u001b[0m, in \u001b[0;36mIncrementalEncoder.encode\u001b[1;34m(self, input, final)\u001b[0m\n\u001b[0;32m     18\u001b[0m \u001b[39mdef\u001b[39;00m \u001b[39mencode\u001b[39m(\u001b[39mself\u001b[39m, \u001b[39minput\u001b[39m, final\u001b[39m=\u001b[39m\u001b[39mFalse\u001b[39;00m):\n\u001b[1;32m---> 19\u001b[0m     \u001b[39mreturn\u001b[39;00m codecs\u001b[39m.\u001b[39;49mcharmap_encode(\u001b[39minput\u001b[39;49m,\u001b[39mself\u001b[39;49m\u001b[39m.\u001b[39;49merrors,encoding_table)[\u001b[39m0\u001b[39m]\n",
      "\u001b[1;31mUnicodeEncodeError\u001b[0m: 'charmap' codec can't encode character '\\ufe0f' in position 5436: character maps to <undefined>"
     ]
    }
   ],
   "source": [
    "with open('dei.sol', \"w\") as text_file:\n",
    "    print(out.encode().decode(), file=text_file)"
   ]
  },
  {
   "cell_type": "code",
   "execution_count": 94,
   "metadata": {},
   "outputs": [
    {
     "data": {
      "text/plain": [
       "\"unicode'⚠️\""
      ]
     },
     "execution_count": 94,
     "metadata": {},
     "output_type": "execute_result"
    }
   ],
   "source": [
    "out[5279:5289]"
   ]
  },
  {
   "cell_type": "code",
   "execution_count": 96,
   "metadata": {},
   "outputs": [
    {
     "data": {
      "text/plain": [
       "'// SPDX-License-Identifier: UNLICENSED\\npragma solidity >=0.7.0;\\npragma abicoder v2;\\n\\nimport \\'@uniswap/v3-core/contracts/interfaces/IUniswapV3Pool.sol\\';\\nimport \\'@uniswap/v3-core/contracts/libraries/TickMath.sol\\';\\nimport \\'@uniswap/v3-core/contracts/libraries/BitMath.sol\\';\\nimport \\'@uniswap/v3-core/contracts/libraries/FullMath.sol\\';\\nimport \\'@openzeppelin/contracts/utils/Strings.sol\\';\\nimport \\'@openzeppelin/contracts/math/SafeMath.sol\\';\\nimport \\'@openzeppelin/contracts/math/SignedSafeMath.sol\\';\\nimport \\'base64-sol/base64.sol\\';\\nimport \\'./HexStrings.sol\\';\\nimport \\'./NFTSVG.sol\\';\\n\\nlibrary NFTDescriptor {\\n    using TickMath for int24;\\n    using Strings for uint256;\\n    using SafeMath for uint256;\\n    using SafeMath for uint160;\\n    using SafeMath for uint8;\\n    using SignedSafeMath for int256;\\n    using HexStrings for uint256;\\n\\n    uint256 constant sqrt10X128 = 1076067327063303206878105757264492625226;\\n\\n    struct ConstructTokenURIParams {\\n        uint256 tokenId;\\n        address quoteTokenAddress;\\n        address baseTokenAddress;\\n        string quoteTokenSymbol;\\n        string baseTokenSymbol;\\n        uint8 quoteTokenDecimals;\\n        uint8 baseTokenDecimals;\\n        bool flipRatio;\\n        int24 tickLower;\\n        int24 tickUpper;\\n        int24 tickCurrent;\\n        int24 tickSpacing;\\n        uint24 fee;\\n        address poolAddress;\\n    }\\n\\n    function constructTokenURI(ConstructTokenURIParams memory params) public pure returns (string memory) {\\n        string memory name = generateName(params, feeToPercentString(params.fee));\\n        string memory descriptionPartOne =\\n            generateDescriptionPartOne(\\n                escapeQuotes(params.quoteTokenSymbol),\\n                escapeQuotes(params.baseTokenSymbol),\\n                addressToString(params.poolAddress)\\n            );\\n        string memory descriptionPartTwo =\\n            generateDescriptionPartTwo(\\n                params.tokenId.toString(),\\n                escapeQuotes(params.baseTokenSymbol),\\n                addressToString(params.quoteTokenAddress),\\n                addressToString(params.baseTokenAddress),\\n                feeToPercentString(params.fee)\\n            );\\n        string memory image = Base64.encode(bytes(generateSVGImage(params)));\\n\\n        return\\n            string(\\n                abi.encodePacked(\\n                    \\'data:application/json;base64,\\',\\n                    Base64.encode(\\n                        bytes(\\n                            abi.encodePacked(\\n                                \\'{\"name\":\"\\',\\n                                name,\\n                                \\'\", \"description\":\"\\',\\n                                descriptionPartOne,\\n                                descriptionPartTwo,\\n                                \\'\", \"image\": \"\\',\\n                                \\'data:image/svg+xml;base64,\\',\\n                                image,\\n                                \\'\"}\\'\\n                            )\\n                        )\\n                    )\\n                )\\n            );\\n    }\\n\\n    function escapeQuotes(string memory symbol) internal pure returns (string memory) {\\n        bytes memory symbolBytes = bytes(symbol);\\n        uint8 quotesCount = 0;\\n        for (uint8 i = 0; i < symbolBytes.length; i++) {\\n            if (symbolBytes[i] == \\'\"\\') {\\n                quotesCount++;\\n            }\\n        }\\n        if (quotesCount > 0) {\\n            bytes memory escapedBytes = new bytes(symbolBytes.length + (quotesCount));\\n            uint256 index;\\n            for (uint8 i = 0; i < symbolBytes.length; i++) {\\n                if (symbolBytes[i] == \\'\"\\') {\\n                    escapedBytes[index++] = \\'\\\\\\\\\\';\\n                }\\n                escapedBytes[index++] = symbolBytes[i];\\n            }\\n            return string(escapedBytes);\\n        }\\n        return symbol;\\n    }\\n\\n    function generateDescriptionPartOne(\\n        string memory quoteTokenSymbol,\\n        string memory baseTokenSymbol,\\n        string memory poolAddress\\n    ) private pure returns (string memory) {\\n        return\\n            string(\\n                abi.encodePacked(\\n                    \\'This NFT represents a liquidity position in a Uniswap V3 \\',\\n                    quoteTokenSymbol,\\n                    \\'-\\',\\n                    baseTokenSymbol,\\n                    \\' pool. \\',\\n                    \\'The owner of this NFT can modify or redeem the position.\\\\\\\\n\\',\\n                    \\'\\\\\\\\nPool Address: \\',\\n                    poolAddress,\\n                    \\'\\\\\\\\n\\',\\n                    quoteTokenSymbol\\n                )\\n            );\\n    }\\n\\n    function generateDescriptionPartTwo(\\n        string memory tokenId,\\n        string memory baseTokenSymbol,\\n        string memory quoteTokenAddress,\\n        string memory baseTokenAddress,\\n        string memory feeTier\\n    ) private pure returns (string memory) {\\n        return\\n            string(\\n                abi.encodePacked(\\n                    \\' Address: \\',\\n                    quoteTokenAddress,\\n                    \\'\\\\\\\\n\\',\\n                    baseTokenSymbol,\\n                    \\' Address: \\',\\n                    baseTokenAddress,\\n                    \\'\\\\\\\\nFee Tier: \\',\\n                    feeTier,\\n                    \\'\\\\\\\\nToken ID: \\',\\n                    tokenId,\\n                    \\'\\\\\\\\n\\\\\\\\n\\',\\n                     DISCLAIMER: Due diligence is imperative when assessing this NFT. Make sure token addresses match the expected tokens, as token symbols may be imitated.\\'\\n                )\\n            );\\n    }\\n\\n    function generateName(ConstructTokenURIParams memory params, string memory feeTier)\\n        private\\n        pure\\n        returns (string memory)\\n    {\\n        return\\n            string(\\n                abi.encodePacked(\\n                    \\'Uniswap - \\',\\n                    feeTier,\\n                    \\' - \\',\\n                    escapeQuotes(params.quoteTokenSymbol),\\n                    \\'/\\',\\n                    escapeQuotes(params.baseTokenSymbol),\\n                    \\' - \\',\\n                    tickToDecimalString(\\n                        !params.flipRatio ? params.tickLower : params.tickUpper,\\n                        params.tickSpacing,\\n                        params.baseTokenDecimals,\\n                        params.quoteTokenDecimals,\\n                        params.flipRatio\\n                    ),\\n                    \\'<>\\',\\n                    tickToDecimalString(\\n                        !params.flipRatio ? params.tickUpper : params.tickLower,\\n                        params.tickSpacing,\\n                        params.baseTokenDecimals,\\n                        params.quoteTokenDecimals,\\n                        params.flipRatio\\n                    )\\n                )\\n            );\\n    }\\n\\n    struct DecimalStringParams {\\n        // significant figures of decimal\\n        uint256 sigfigs;\\n        // length of decimal string\\n        uint8 bufferLength;\\n        // ending index for significant figures (funtion works backwards when copying sigfigs)\\n        uint8 sigfigIndex;\\n        // index of decimal place (0 if no decimal)\\n        uint8 decimalIndex;\\n        // start index for trailing/leading 0\\'s for very small/large numbers\\n        uint8 zerosStartIndex;\\n        // end index for trailing/leading 0\\'s for very small/large numbers\\n        uint8 zerosEndIndex;\\n        // true if decimal number is less than one\\n        bool isLessThanOne;\\n        // true if string should include \"%\"\\n        bool isPercent;\\n    }\\n\\n    function generateDecimalString(DecimalStringParams memory params) private pure returns (string memory) {\\n        bytes memory buffer = new bytes(params.bufferLength);\\n        if (params.isPercent) {\\n            buffer[buffer.length - 1] = \\'%\\';\\n        }\\n        if (params.isLessThanOne) {\\n            buffer[0] = \\'0\\';\\n            buffer[1] = \\'.\\';\\n        }\\n\\n        // add leading/trailing 0\\'s\\n        for (uint256 zerosCursor = params.zerosStartIndex; zerosCursor < params.zerosEndIndex.add(1); zerosCursor++) {\\n            buffer[zerosCursor] = bytes1(uint8(48));\\n        }\\n        // add sigfigs\\n        while (params.sigfigs > 0) {\\n            if (params.decimalIndex > 0 && params.sigfigIndex == params.decimalIndex) {\\n                buffer[params.sigfigIndex--] = \\'.\\';\\n            }\\n            buffer[params.sigfigIndex--] = bytes1(uint8(uint256(48).add(params.sigfigs % 10)));\\n            params.sigfigs /= 10;\\n        }\\n        return string(buffer);\\n    }\\n\\n    function tickToDecimalString(\\n        int24 tick,\\n        int24 tickSpacing,\\n        uint8 baseTokenDecimals,\\n        uint8 quoteTokenDecimals,\\n        bool flipRatio\\n    ) internal pure returns (string memory) {\\n        if (tick == (TickMath.MIN_TICK / tickSpacing) * tickSpacing) {\\n            return !flipRatio ? \\'MIN\\' : \\'MAX\\';\\n        } else if (tick == (TickMath.MAX_TICK / tickSpacing) * tickSpacing) {\\n            return !flipRatio ? \\'MAX\\' : \\'MIN\\';\\n        } else {\\n            uint160 sqrtRatioX96 = TickMath.getSqrtRatioAtTick(tick);\\n            if (flipRatio) {\\n                sqrtRatioX96 = uint160(uint256(1 << 192).div(sqrtRatioX96));\\n            }\\n            return fixedPointToDecimalString(sqrtRatioX96, baseTokenDecimals, quoteTokenDecimals);\\n        }\\n    }\\n\\n    function sigfigsRounded(uint256 value, uint8 digits) private pure returns (uint256, bool) {\\n        bool extraDigit;\\n        if (digits > 5) {\\n            value = value.div((10**(digits - 5)));\\n        }\\n        bool roundUp = value % 10 > 4;\\n        value = value.div(10);\\n        if (roundUp) {\\n            value = value + 1;\\n        }\\n        // 99999 -> 100000 gives an extra sigfig\\n        if (value == 100000) {\\n            value /= 10;\\n            extraDigit = true;\\n        }\\n        return (value, extraDigit);\\n    }\\n\\n    function adjustForDecimalPrecision(\\n        uint160 sqrtRatioX96,\\n        uint8 baseTokenDecimals,\\n        uint8 quoteTokenDecimals\\n    ) private pure returns (uint256 adjustedSqrtRatioX96) {\\n        uint256 difference = abs(int256(baseTokenDecimals).sub(int256(quoteTokenDecimals)));\\n        if (difference > 0 && difference <= 18) {\\n            if (baseTokenDecimals > quoteTokenDecimals) {\\n                adjustedSqrtRatioX96 = sqrtRatioX96.mul(10**(difference.div(2)));\\n                if (difference % 2 == 1) {\\n                    adjustedSqrtRatioX96 = FullMath.mulDiv(adjustedSqrtRatioX96, sqrt10X128, 1 << 128);\\n                }\\n            } else {\\n                adjustedSqrtRatioX96 = sqrtRatioX96.div(10**(difference.div(2)));\\n                if (difference % 2 == 1) {\\n                    adjustedSqrtRatioX96 = FullMath.mulDiv(adjustedSqrtRatioX96, 1 << 128, sqrt10X128);\\n                }\\n            }\\n        } else {\\n            adjustedSqrtRatioX96 = uint256(sqrtRatioX96);\\n        }\\n    }\\n\\n    function abs(int256 x) private pure returns (uint256) {\\n        return uint256(x >= 0 ? x : -x);\\n    }\\n\\n    // @notice Returns string that includes first 5 significant figures of a decimal number\\n    // @param sqrtRatioX96 a sqrt price\\n    function fixedPointToDecimalString(\\n        uint160 sqrtRatioX96,\\n        uint8 baseTokenDecimals,\\n        uint8 quoteTokenDecimals\\n    ) internal pure returns (string memory) {\\n        uint256 adjustedSqrtRatioX96 = adjustForDecimalPrecision(sqrtRatioX96, baseTokenDecimals, quoteTokenDecimals);\\n        uint256 value = FullMath.mulDiv(adjustedSqrtRatioX96, adjustedSqrtRatioX96, 1 << 64);\\n\\n        bool priceBelow1 = adjustedSqrtRatioX96 < 2**96;\\n        if (priceBelow1) {\\n            // 10 ** 43 is precision needed to retreive 5 sigfigs of smallest possible price + 1 for rounding\\n            value = FullMath.mulDiv(value, 10**44, 1 << 128);\\n        } else {\\n            // leave precision for 4 decimal places + 1 place for rounding\\n            value = FullMath.mulDiv(value, 10**5, 1 << 128);\\n        }\\n\\n        // get digit count\\n        uint256 temp = value;\\n        uint8 digits;\\n        while (temp != 0) {\\n            digits++;\\n            temp /= 10;\\n        }\\n        // don\\'t count extra digit kept for rounding\\n        digits = digits - 1;\\n\\n        // address rounding\\n        (uint256 sigfigs, bool extraDigit) = sigfigsRounded(value, digits);\\n        if (extraDigit) {\\n            digits++;\\n        }\\n\\n        DecimalStringParams memory params;\\n        if (priceBelow1) {\\n            // 7 bytes ( \"0.\" and 5 sigfigs) + leading 0\\'s bytes\\n            params.bufferLength = uint8(uint8(7).add(uint8(43).sub(digits)));\\n            params.zerosStartIndex = 2;\\n            params.zerosEndIndex = uint8(uint256(43).sub(digits).add(1));\\n            params.sigfigIndex = uint8(params.bufferLength.sub(1));\\n        } else if (digits >= 9) {\\n            // no decimal in price string\\n            params.bufferLength = uint8(digits.sub(4));\\n            params.zerosStartIndex = 5;\\n            params.zerosEndIndex = uint8(params.bufferLength.sub(1));\\n            params.sigfigIndex = 4;\\n        } else {\\n            // 5 sigfigs surround decimal\\n            params.bufferLength = 6;\\n            params.sigfigIndex = 5;\\n            params.decimalIndex = uint8(digits.sub(5).add(1));\\n        }\\n        params.sigfigs = sigfigs;\\n        params.isLessThanOne = priceBelow1;\\n        params.isPercent = false;\\n\\n        return generateDecimalString(params);\\n    }\\n\\n    // @notice Returns string as decimal percentage of fee amount.\\n    // @param fee fee amount\\n    function feeToPercentString(uint24 fee) internal pure returns (string memory) {\\n        if (fee == 0) {\\n            return \\'0%\\';\\n        }\\n        uint24 temp = fee;\\n        uint256 digits;\\n        uint8 numSigfigs;\\n        while (temp != 0) {\\n            if (numSigfigs > 0) {\\n                // count all digits preceding least significant figure\\n                numSigfigs++;\\n            } else if (temp % 10 != 0) {\\n                numSigfigs++;\\n            }\\n            digits++;\\n            temp /= 10;\\n        }\\n\\n        DecimalStringParams memory params;\\n        uint256 nZeros;\\n        if (digits >= 5) {\\n            // if decimal > 1 (5th digit is the ones place)\\n            uint256 decimalPlace = digits.sub(numSigfigs) >= 4 ? 0 : 1;\\n            nZeros = digits.sub(5) < (numSigfigs.sub(1)) ? 0 : digits.sub(5).sub(numSigfigs.sub(1));\\n            params.zerosStartIndex = numSigfigs;\\n            params.zerosEndIndex = uint8(params.zerosStartIndex.add(nZeros).sub(1));\\n            params.sigfigIndex = uint8(params.zerosStartIndex.sub(1).add(decimalPlace));\\n            params.bufferLength = uint8(nZeros.add(numSigfigs.add(1)).add(decimalPlace));\\n        } else {\\n            // else if decimal < 1\\n            nZeros = uint256(5).sub(digits);\\n            params.zerosStartIndex = 2;\\n            params.zerosEndIndex = uint8(nZeros.add(params.zerosStartIndex).sub(1));\\n            params.bufferLength = uint8(nZeros.add(numSigfigs.add(2)));\\n            params.sigfigIndex = uint8((params.bufferLength).sub(2));\\n            params.isLessThanOne = true;\\n        }\\n        params.sigfigs = uint256(fee).div(10**(digits.sub(numSigfigs)));\\n        params.isPercent = true;\\n        params.decimalIndex = digits > 4 ? uint8(digits.sub(4)) : 0;\\n\\n        return generateDecimalString(params);\\n    }\\n\\n    function addressToString(address addr) internal pure returns (string memory) {\\n        return (uint256(addr)).toHexString(20);\\n    }\\n\\n    function generateSVGImage(ConstructTokenURIParams memory params) internal pure returns (string memory svg) {\\n        NFTSVG.SVGParams memory svgParams =\\n            NFTSVG.SVGParams({\\n                quoteToken: addressToString(params.quoteTokenAddress),\\n                baseToken: addressToString(params.baseTokenAddress),\\n                poolAddress: params.poolAddress,\\n                quoteTokenSymbol: params.quoteTokenSymbol,\\n                baseTokenSymbol: params.baseTokenSymbol,\\n                feeTier: feeToPercentString(params.fee),\\n                tickLower: params.tickLower,\\n                tickUpper: params.tickUpper,\\n                tickSpacing: params.tickSpacing,\\n                overRange: overRange(params.tickLower, params.tickUpper, params.tickCurrent),\\n                tokenId: params.tokenId,\\n                color0: tokenToColorHex(uint256(params.quoteTokenAddress), 136),\\n                color1: tokenToColorHex(uint256(params.baseTokenAddress), 136),\\n                color2: tokenToColorHex(uint256(params.quoteTokenAddress), 0),\\n                color3: tokenToColorHex(uint256(params.baseTokenAddress), 0),\\n                x1: scale(getCircleCoord(uint256(params.quoteTokenAddress), 16, params.tokenId), 0, 255, 16, 274),\\n                y1: scale(getCircleCoord(uint256(params.baseTokenAddress), 16, params.tokenId), 0, 255, 100, 484),\\n                x2: scale(getCircleCoord(uint256(params.quoteTokenAddress), 32, params.tokenId), 0, 255, 16, 274),\\n                y2: scale(getCircleCoord(uint256(params.baseTokenAddress), 32, params.tokenId), 0, 255, 100, 484),\\n                x3: scale(getCircleCoord(uint256(params.quoteTokenAddress), 48, params.tokenId), 0, 255, 16, 274),\\n                y3: scale(getCircleCoord(uint256(params.baseTokenAddress), 48, params.tokenId), 0, 255, 100, 484)\\n            });\\n\\n        return NFTSVG.generateSVG(svgParams);\\n    }\\n\\n    function overRange(\\n        int24 tickLower,\\n        int24 tickUpper,\\n        int24 tickCurrent\\n    ) private pure returns (int8) {\\n        if (tickCurrent < tickLower) {\\n            return -1;\\n        } else if (tickCurrent > tickUpper) {\\n            return 1;\\n        } else {\\n            return 0;\\n        }\\n    }\\n\\n    function scale(\\n        uint256 n,\\n        uint256 inMn,\\n        uint256 inMx,\\n        uint256 outMn,\\n        uint256 outMx\\n    ) private pure returns (string memory) {\\n        return (n.sub(inMn).mul(outMx.sub(outMn)).div(inMx.sub(inMn)).add(outMn)).toString();\\n    }\\n\\n    function tokenToColorHex(uint256 token, uint256 offset) internal pure returns (string memory str) {\\n        return string((token >> offset).toHexStringNoPrefix(3));\\n    }\\n\\n    function getCircleCoord(\\n        uint256 tokenAddress,\\n        uint256 offset,\\n        uint256 tokenId\\n    ) internal pure returns (uint256) {\\n        return (sliceTokenHex(tokenAddress, offset) * tokenId) % 255;\\n    }\\n\\n    function sliceTokenHex(uint256 token, uint256 offset) internal pure returns (uint256) {\\n        return uint256(uint8(token >> offset));\\n    }\\n}\\n'"
      ]
     },
     "execution_count": 96,
     "metadata": {},
     "output_type": "execute_result"
    }
   ],
   "source": [
    "out.replace(\"unicode'⚠️\",\"\")"
   ]
  },
  {
   "cell_type": "code",
   "execution_count": 74,
   "metadata": {},
   "outputs": [
    {
     "data": {
      "text/plain": [
       "'// SPDX-License-Identifier: UNLICENSED\\npragma solidity >=0.7.0;\\npragma abicoder v2;\\n\\nimport \\'@uniswap/v3-core/contracts/interfaces/IUniswapV3Pool.sol\\';\\nimport \\'@uniswap/v3-core/contracts/libraries/TickMath.sol\\';\\nimport \\'@uniswap/v3-core/contracts/libraries/BitMath.sol\\';\\nimport \\'@uniswap/v3-core/contracts/libraries/FullMath.sol\\';\\nimport \\'@openzeppelin/contracts/utils/Strings.sol\\';\\nimport \\'@openzeppelin/contracts/math/SafeMath.sol\\';\\nimport \\'@openzeppelin/contracts/math/SignedSafeMath.sol\\';\\nimport \\'base64-sol/base64.sol\\';\\nimport \\'./HexStrings.sol\\';\\nimport \\'./NFTSVG.sol\\';\\n\\nlibrary NFTDescriptor {\\n    using TickMath for int24;\\n    using Strings for uint256;\\n    using SafeMath for uint256;\\n    using SafeMath for uint160;\\n    using SafeMath for uint8;\\n    using SignedSafeMath for int256;\\n    using HexStrings for uint256;\\n\\n    uint256 constant sqrt10X128 = 1076067327063303206878105757264492625226;\\n\\n    struct ConstructTokenURIParams {\\n        uint256 tokenId;\\n        address quoteTokenAddress;\\n        address baseTokenAddress;\\n        string quoteTokenSymbol;\\n        string baseTokenSymbol;\\n        uint8 quoteTokenDecimals;\\n        uint8 baseTokenDecimals;\\n        bool flipRatio;\\n        int24 tickLower;\\n        int24 tickUpper;\\n        int24 tickCurrent;\\n        int24 tickSpacing;\\n        uint24 fee;\\n        address poolAddress;\\n    }\\n\\n    function constructTokenURI(ConstructTokenURIParams memory params) public pure returns (string memory) {\\n        string memory name = generateName(params, feeToPercentString(params.fee));\\n        string memory descriptionPartOne =\\n            generateDescriptionPartOne(\\n                escapeQuotes(params.quoteTokenSymbol),\\n                escapeQuotes(params.baseTokenSymbol),\\n                addressToString(params.poolAddress)\\n            );\\n        string memory descriptionPartTwo =\\n            generateDescriptionPartTwo(\\n                params.tokenId.toString(),\\n                escapeQuotes(params.baseTokenSymbol),\\n                addressToString(params.quoteTokenAddress),\\n                addressToString(params.baseTokenAddress),\\n                feeToPercentString(params.fee)\\n            );\\n        string memory image = Base64.encode(bytes(generateSVGImage(params)));\\n\\n        return\\n            string(\\n                abi.encodePacked(\\n                    \\'data:application/json;base64,\\',\\n                    Base64.encode(\\n                        bytes(\\n                            abi.encodePacked(\\n                                \\'{\"name\":\"\\',\\n                                name,\\n                                \\'\", \"description\":\"\\',\\n                                descriptionPartOne,\\n                                descriptionPartTwo,\\n                                \\'\", \"image\": \"\\',\\n                                \\'data:image/svg+xml;base64,\\',\\n                                image,\\n                                \\'\"}\\'\\n                            )\\n                        )\\n                    )\\n                )\\n            );\\n    }\\n\\n    function escapeQuotes(string memory symbol) internal pure returns (string memory) {\\n        bytes memory symbolBytes = bytes(symbol);\\n        uint8 quotesCount = 0;\\n        for (uint8 i = 0; i < symbolBytes.length; i++) {\\n            if (symbolBytes[i] == \\'\"\\') {\\n                quotesCount++;\\n            }\\n        }\\n        if (quotesCount > 0) {\\n            bytes memory escapedBytes = new bytes(symbolBytes.length + (quotesCount));\\n            uint256 index;\\n            for (uint8 i = 0; i < symbolBytes.length; i++) {\\n                if (symbolBytes[i] == \\'\"\\') {\\n                    escapedBytes[index++] = \\'\\\\\\\\\\';\\n                }\\n                escapedBytes[index++] = symbolBytes[i];\\n            }\\n            return string(escapedBytes);\\n        }\\n        return symbol;\\n    }\\n\\n    function generateDescriptionPartOne(\\n        string memory quoteTokenSymbol,\\n        string memory baseTokenSymbol,\\n        string memory poolAddress\\n    ) private pure returns (string memory) {\\n        return\\n            string(\\n                abi.encodePacked(\\n                    \\'This NFT represents a liquidity position in a Uniswap V3 \\',\\n                    quoteTokenSymbol,\\n                    \\'-\\',\\n                    baseTokenSymbol,\\n                    \\' pool. \\',\\n                    \\'The owner of this NFT can modify or redeem the position.\\\\\\\\n\\',\\n                    \\'\\\\\\\\nPool Address: \\',\\n                    poolAddress,\\n                    \\'\\\\\\\\n\\',\\n                    quoteTokenSymbol\\n                )\\n            );\\n    }\\n\\n    function generateDescriptionPartTwo(\\n        string memory tokenId,\\n        string memory baseTokenSymbol,\\n        string memory quoteTokenAddress,\\n        string memory baseTokenAddress,\\n        string memory feeTier\\n    ) private pure returns (string memory) {\\n        return\\n            string(\\n                abi.encodePacked(\\n                    \\' Address: \\',\\n                    quoteTokenAddress,\\n                    \\'\\\\\\\\n\\',\\n                    baseTokenSymbol,\\n                    \\' Address: \\',\\n                    baseTokenAddress,\\n                    \\'\\\\\\\\nFee Tier: \\',\\n                    feeTier,\\n                    \\'\\\\\\\\nToken ID: \\',\\n                    tokenId,\\n                    \\'\\\\\\\\n\\\\\\\\n\\',\\n                    unicode\\'⚠️ DISCLAIMER: Due diligence is imperative when assessing this NFT. Make sure token addresses match the expected tokens, as token symbols may be imitated.\\'\\n                )\\n            );\\n    }\\n\\n    function generateName(ConstructTokenURIParams memory params, string memory feeTier)\\n        private\\n        pure\\n        returns (string memory)\\n    {\\n        return\\n            string(\\n                abi.encodePacked(\\n                    \\'Uniswap - \\',\\n                    feeTier,\\n                    \\' - \\',\\n                    escapeQuotes(params.quoteTokenSymbol),\\n                    \\'/\\',\\n                    escapeQuotes(params.baseTokenSymbol),\\n                    \\' - \\',\\n                    tickToDecimalString(\\n                        !params.flipRatio ? params.tickLower : params.tickUpper,\\n                        params.tickSpacing,\\n                        params.baseTokenDecimals,\\n                        params.quoteTokenDecimals,\\n                        params.flipRatio\\n                    ),\\n                    \\'<>\\',\\n                    tickToDecimalString(\\n                        !params.flipRatio ? params.tickUpper : params.tickLower,\\n                        params.tickSpacing,\\n                        params.baseTokenDecimals,\\n                        params.quoteTokenDecimals,\\n                        params.flipRatio\\n                    )\\n                )\\n            );\\n    }\\n\\n    struct DecimalStringParams {\\n        // significant figures of decimal\\n        uint256 sigfigs;\\n        // length of decimal string\\n        uint8 bufferLength;\\n        // ending index for significant figures (funtion works backwards when copying sigfigs)\\n        uint8 sigfigIndex;\\n        // index of decimal place (0 if no decimal)\\n        uint8 decimalIndex;\\n        // start index for trailing/leading 0\\'s for very small/large numbers\\n        uint8 zerosStartIndex;\\n        // end index for trailing/leading 0\\'s for very small/large numbers\\n        uint8 zerosEndIndex;\\n        // true if decimal number is less than one\\n        bool isLessThanOne;\\n        // true if string should include \"%\"\\n        bool isPercent;\\n    }\\n\\n    function generateDecimalString(DecimalStringParams memory params) private pure returns (string memory) {\\n        bytes memory buffer = new bytes(params.bufferLength);\\n        if (params.isPercent) {\\n            buffer[buffer.length - 1] = \\'%\\';\\n        }\\n        if (params.isLessThanOne) {\\n            buffer[0] = \\'0\\';\\n            buffer[1] = \\'.\\';\\n        }\\n\\n        // add leading/trailing 0\\'s\\n        for (uint256 zerosCursor = params.zerosStartIndex; zerosCursor < params.zerosEndIndex.add(1); zerosCursor++) {\\n            buffer[zerosCursor] = bytes1(uint8(48));\\n        }\\n        // add sigfigs\\n        while (params.sigfigs > 0) {\\n            if (params.decimalIndex > 0 && params.sigfigIndex == params.decimalIndex) {\\n                buffer[params.sigfigIndex--] = \\'.\\';\\n            }\\n            buffer[params.sigfigIndex--] = bytes1(uint8(uint256(48).add(params.sigfigs % 10)));\\n            params.sigfigs /= 10;\\n        }\\n        return string(buffer);\\n    }\\n\\n    function tickToDecimalString(\\n        int24 tick,\\n        int24 tickSpacing,\\n        uint8 baseTokenDecimals,\\n        uint8 quoteTokenDecimals,\\n        bool flipRatio\\n    ) internal pure returns (string memory) {\\n        if (tick == (TickMath.MIN_TICK / tickSpacing) * tickSpacing) {\\n            return !flipRatio ? \\'MIN\\' : \\'MAX\\';\\n        } else if (tick == (TickMath.MAX_TICK / tickSpacing) * tickSpacing) {\\n            return !flipRatio ? \\'MAX\\' : \\'MIN\\';\\n        } else {\\n            uint160 sqrtRatioX96 = TickMath.getSqrtRatioAtTick(tick);\\n            if (flipRatio) {\\n                sqrtRatioX96 = uint160(uint256(1 << 192).div(sqrtRatioX96));\\n            }\\n            return fixedPointToDecimalString(sqrtRatioX96, baseTokenDecimals, quoteTokenDecimals);\\n        }\\n    }\\n\\n    function sigfigsRounded(uint256 value, uint8 digits) private pure returns (uint256, bool) {\\n        bool extraDigit;\\n        if (digits > 5) {\\n            value = value.div((10**(digits - 5)));\\n        }\\n        bool roundUp = value % 10 > 4;\\n        value = value.div(10);\\n        if (roundUp) {\\n            value = value + 1;\\n        }\\n        // 99999 -> 100000 gives an extra sigfig\\n        if (value == 100000) {\\n            value /= 10;\\n            extraDigit = true;\\n        }\\n        return (value, extraDigit);\\n    }\\n\\n    function adjustForDecimalPrecision(\\n        uint160 sqrtRatioX96,\\n        uint8 baseTokenDecimals,\\n        uint8 quoteTokenDecimals\\n    ) private pure returns (uint256 adjustedSqrtRatioX96) {\\n        uint256 difference = abs(int256(baseTokenDecimals).sub(int256(quoteTokenDecimals)));\\n        if (difference > 0 && difference <= 18) {\\n            if (baseTokenDecimals > quoteTokenDecimals) {\\n                adjustedSqrtRatioX96 = sqrtRatioX96.mul(10**(difference.div(2)));\\n                if (difference % 2 == 1) {\\n                    adjustedSqrtRatioX96 = FullMath.mulDiv(adjustedSqrtRatioX96, sqrt10X128, 1 << 128);\\n                }\\n            } else {\\n                adjustedSqrtRatioX96 = sqrtRatioX96.div(10**(difference.div(2)));\\n                if (difference % 2 == 1) {\\n                    adjustedSqrtRatioX96 = FullMath.mulDiv(adjustedSqrtRatioX96, 1 << 128, sqrt10X128);\\n                }\\n            }\\n        } else {\\n            adjustedSqrtRatioX96 = uint256(sqrtRatioX96);\\n        }\\n    }\\n\\n    function abs(int256 x) private pure returns (uint256) {\\n        return uint256(x >= 0 ? x : -x);\\n    }\\n\\n    // @notice Returns string that includes first 5 significant figures of a decimal number\\n    // @param sqrtRatioX96 a sqrt price\\n    function fixedPointToDecimalString(\\n        uint160 sqrtRatioX96,\\n        uint8 baseTokenDecimals,\\n        uint8 quoteTokenDecimals\\n    ) internal pure returns (string memory) {\\n        uint256 adjustedSqrtRatioX96 = adjustForDecimalPrecision(sqrtRatioX96, baseTokenDecimals, quoteTokenDecimals);\\n        uint256 value = FullMath.mulDiv(adjustedSqrtRatioX96, adjustedSqrtRatioX96, 1 << 64);\\n\\n        bool priceBelow1 = adjustedSqrtRatioX96 < 2**96;\\n        if (priceBelow1) {\\n            // 10 ** 43 is precision needed to retreive 5 sigfigs of smallest possible price + 1 for rounding\\n            value = FullMath.mulDiv(value, 10**44, 1 << 128);\\n        } else {\\n            // leave precision for 4 decimal places + 1 place for rounding\\n            value = FullMath.mulDiv(value, 10**5, 1 << 128);\\n        }\\n\\n        // get digit count\\n        uint256 temp = value;\\n        uint8 digits;\\n        while (temp != 0) {\\n            digits++;\\n            temp /= 10;\\n        }\\n        // don\\'t count extra digit kept for rounding\\n        digits = digits - 1;\\n\\n        // address rounding\\n        (uint256 sigfigs, bool extraDigit) = sigfigsRounded(value, digits);\\n        if (extraDigit) {\\n            digits++;\\n        }\\n\\n        DecimalStringParams memory params;\\n        if (priceBelow1) {\\n            // 7 bytes ( \"0.\" and 5 sigfigs) + leading 0\\'s bytes\\n            params.bufferLength = uint8(uint8(7).add(uint8(43).sub(digits)));\\n            params.zerosStartIndex = 2;\\n            params.zerosEndIndex = uint8(uint256(43).sub(digits).add(1));\\n            params.sigfigIndex = uint8(params.bufferLength.sub(1));\\n        } else if (digits >= 9) {\\n            // no decimal in price string\\n            params.bufferLength = uint8(digits.sub(4));\\n            params.zerosStartIndex = 5;\\n            params.zerosEndIndex = uint8(params.bufferLength.sub(1));\\n            params.sigfigIndex = 4;\\n        } else {\\n            // 5 sigfigs surround decimal\\n            params.bufferLength = 6;\\n            params.sigfigIndex = 5;\\n            params.decimalIndex = uint8(digits.sub(5).add(1));\\n        }\\n        params.sigfigs = sigfigs;\\n        params.isLessThanOne = priceBelow1;\\n        params.isPercent = false;\\n\\n        return generateDecimalString(params);\\n    }\\n\\n    // @notice Returns string as decimal percentage of fee amount.\\n    // @param fee fee amount\\n    function feeToPercentString(uint24 fee) internal pure returns (string memory) {\\n        if (fee == 0) {\\n            return \\'0%\\';\\n        }\\n        uint24 temp = fee;\\n        uint256 digits;\\n        uint8 numSigfigs;\\n        while (temp != 0) {\\n            if (numSigfigs > 0) {\\n                // count all digits preceding least significant figure\\n                numSigfigs++;\\n            } else if (temp % 10 != 0) {\\n                numSigfigs++;\\n            }\\n            digits++;\\n            temp /= 10;\\n        }\\n\\n        DecimalStringParams memory params;\\n        uint256 nZeros;\\n        if (digits >= 5) {\\n            // if decimal > 1 (5th digit is the ones place)\\n            uint256 decimalPlace = digits.sub(numSigfigs) >= 4 ? 0 : 1;\\n            nZeros = digits.sub(5) < (numSigfigs.sub(1)) ? 0 : digits.sub(5).sub(numSigfigs.sub(1));\\n            params.zerosStartIndex = numSigfigs;\\n            params.zerosEndIndex = uint8(params.zerosStartIndex.add(nZeros).sub(1));\\n            params.sigfigIndex = uint8(params.zerosStartIndex.sub(1).add(decimalPlace));\\n            params.bufferLength = uint8(nZeros.add(numSigfigs.add(1)).add(decimalPlace));\\n        } else {\\n            // else if decimal < 1\\n            nZeros = uint256(5).sub(digits);\\n            params.zerosStartIndex = 2;\\n            params.zerosEndIndex = uint8(nZeros.add(params.zerosStartIndex).sub(1));\\n            params.bufferLength = uint8(nZeros.add(numSigfigs.add(2)));\\n            params.sigfigIndex = uint8((params.bufferLength).sub(2));\\n            params.isLessThanOne = true;\\n        }\\n        params.sigfigs = uint256(fee).div(10**(digits.sub(numSigfigs)));\\n        params.isPercent = true;\\n        params.decimalIndex = digits > 4 ? uint8(digits.sub(4)) : 0;\\n\\n        return generateDecimalString(params);\\n    }\\n\\n    function addressToString(address addr) internal pure returns (string memory) {\\n        return (uint256(addr)).toHexString(20);\\n    }\\n\\n    function generateSVGImage(ConstructTokenURIParams memory params) internal pure returns (string memory svg) {\\n        NFTSVG.SVGParams memory svgParams =\\n            NFTSVG.SVGParams({\\n                quoteToken: addressToString(params.quoteTokenAddress),\\n                baseToken: addressToString(params.baseTokenAddress),\\n                poolAddress: params.poolAddress,\\n                quoteTokenSymbol: params.quoteTokenSymbol,\\n                baseTokenSymbol: params.baseTokenSymbol,\\n                feeTier: feeToPercentString(params.fee),\\n                tickLower: params.tickLower,\\n                tickUpper: params.tickUpper,\\n                tickSpacing: params.tickSpacing,\\n                overRange: overRange(params.tickLower, params.tickUpper, params.tickCurrent),\\n                tokenId: params.tokenId,\\n                color0: tokenToColorHex(uint256(params.quoteTokenAddress), 136),\\n                color1: tokenToColorHex(uint256(params.baseTokenAddress), 136),\\n                color2: tokenToColorHex(uint256(params.quoteTokenAddress), 0),\\n                color3: tokenToColorHex(uint256(params.baseTokenAddress), 0),\\n                x1: scale(getCircleCoord(uint256(params.quoteTokenAddress), 16, params.tokenId), 0, 255, 16, 274),\\n                y1: scale(getCircleCoord(uint256(params.baseTokenAddress), 16, params.tokenId), 0, 255, 100, 484),\\n                x2: scale(getCircleCoord(uint256(params.quoteTokenAddress), 32, params.tokenId), 0, 255, 16, 274),\\n                y2: scale(getCircleCoord(uint256(params.baseTokenAddress), 32, params.tokenId), 0, 255, 100, 484),\\n                x3: scale(getCircleCoord(uint256(params.quoteTokenAddress), 48, params.tokenId), 0, 255, 16, 274),\\n                y3: scale(getCircleCoord(uint256(params.baseTokenAddress), 48, params.tokenId), 0, 255, 100, 484)\\n            });\\n\\n        return NFTSVG.generateSVG(svgParams);\\n    }\\n\\n    function overRange(\\n        int24 tickLower,\\n        int24 tickUpper,\\n        int24 tickCurrent\\n    ) private pure returns (int8) {\\n        if (tickCurrent < tickLower) {\\n            return -1;\\n        } else if (tickCurrent > tickUpper) {\\n            return 1;\\n        } else {\\n            return 0;\\n        }\\n    }\\n\\n    function scale(\\n        uint256 n,\\n        uint256 inMn,\\n        uint256 inMx,\\n        uint256 outMn,\\n        uint256 outMx\\n    ) private pure returns (string memory) {\\n        return (n.sub(inMn).mul(outMx.sub(outMn)).div(inMx.sub(inMn)).add(outMn)).toString();\\n    }\\n\\n    function tokenToColorHex(uint256 token, uint256 offset) internal pure returns (string memory str) {\\n        return string((token >> offset).toHexStringNoPrefix(3));\\n    }\\n\\n    function getCircleCoord(\\n        uint256 tokenAddress,\\n        uint256 offset,\\n        uint256 tokenId\\n    ) internal pure returns (uint256) {\\n        return (sliceTokenHex(tokenAddress, offset) * tokenId) % 255;\\n    }\\n\\n    function sliceTokenHex(uint256 token, uint256 offset) internal pure returns (uint256) {\\n        return uint256(uint8(token >> offset));\\n    }\\n}\\n'"
      ]
     },
     "execution_count": 74,
     "metadata": {},
     "output_type": "execute_result"
    }
   ],
   "source": [
    "out"
   ]
  },
  {
   "cell_type": "code",
   "execution_count": null,
   "metadata": {},
   "outputs": [],
   "source": []
  }
 ],
 "metadata": {
  "kernelspec": {
   "display_name": "Python 3.9.13 64-bit (microsoft store)",
   "language": "python",
   "name": "python3"
  },
  "language_info": {
   "codemirror_mode": {
    "name": "ipython",
    "version": 3
   },
   "file_extension": ".py",
   "mimetype": "text/x-python",
   "name": "python",
   "nbconvert_exporter": "python",
   "pygments_lexer": "ipython3",
   "version": "3.9.13"
  },
  "orig_nbformat": 4,
  "vscode": {
   "interpreter": {
    "hash": "56c7ecce51139da197b3c408f03eac3d1a94ce458b8847f2409aebcc42f02287"
   }
  }
 },
 "nbformat": 4,
 "nbformat_minor": 2
}
