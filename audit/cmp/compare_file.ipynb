{
 "cells": [
  {
   "cell_type": "code",
   "execution_count": 14,
   "metadata": {},
   "outputs": [],
   "source": [
    "def compareFiles(fn1, fn2):\n",
    "\n",
    "    f1 = open(fn1, \"r\")  \n",
    "    f2 = open(fn2, \"r\")\n",
    "\n",
    "    isSame = True\n",
    "    \n",
    "    i = 0\n",
    "    \n",
    "    for line1 in f1:\n",
    "        i += 1\n",
    "        \n",
    "        for line2 in f2:\n",
    "            if line1 != line2:\n",
    "                isSame = False\n",
    "            break\n",
    "    \n",
    "    f1.close()                                       \n",
    "    f2.close()\n",
    "\n",
    "    return isSame"
   ]
  },
  {
   "cell_type": "code",
   "execution_count": null,
   "metadata": {},
   "outputs": [],
   "source": [
    "from os import listdir as ld"
   ]
  },
  {
   "cell_type": "code",
   "execution_count": 21,
   "metadata": {},
   "outputs": [],
   "source": [
    "def compareCommonFilesInFoldersInRoot(root,folders=None):\n",
    "    if folders == None:\n",
    "        folders = [(root+folder) for folder in [f\"{ldi}/\" for ldi in ld(root) if not (\".\") in ldi]]\n",
    "    files = [ld(folder) for folder in folders]\n",
    "    for file in files[0]:\n",
    "        if all([(file in currFiles) for currFiles in files[1:]]):\n",
    "            toCheck = [(folder+file) for folder in folders]\n",
    "            res = []\n",
    "            for i in range(len(toCheck)-1):\n",
    "                res.append(compareFiles(toCheck[i],toCheck[i+1]))\n",
    "                if not res[i]:\n",
    "                    print(\"Different\", toCheck[i],toCheck[i+1])\n",
    "            if all(res):\n",
    "                print(\"All Same\", file)"
   ]
  },
  {
   "cell_type": "code",
   "execution_count": 24,
   "metadata": {},
   "outputs": [],
   "source": [
    "def compareFilesinList(toChecks):\n",
    "    for toCheck in toChecks:\n",
    "        res = []\n",
    "        for i in range(len(toCheck)-1):\n",
    "            res.append(compareFiles(toCheck[i],toCheck[i+1]))\n",
    "            if not res[i]:\n",
    "                print(\"Different\", toCheck[i],toCheck[i+1])\n",
    "        if all(res):\n",
    "            print(\"All Same\", toCheck)"
   ]
  },
  {
   "cell_type": "code",
   "execution_count": 22,
   "metadata": {},
   "outputs": [
    {
     "name": "stdout",
     "output_type": "stream",
     "text": [
      "All Same CarefulMath.sol\n",
      "All Same Comp.sol\n",
      "All Same ComptrollerInterface.sol\n",
      "Different ./contracts/Comptroller/StdComptrollerG4/ComptrollerStorage.sol ./contracts/Comptroller/StdComptrollerG5/ComptrollerStorage.sol\n",
      "All Same CToken.sol\n",
      "All Same CTokenInterfaces.sol\n",
      "All Same EIP20Interface.sol\n",
      "All Same EIP20NonStandardInterface.sol\n",
      "All Same ErrorReporter.sol\n",
      "All Same Exponential.sol\n",
      "All Same InterestRateModel.sol\n",
      "All Same PriceOracle.sol\n",
      "All Same Unitroller.sol\n"
     ]
    }
   ],
   "source": [
    "compareCommonFilesInFoldersInRoot(\"./contracts/Comptroller/\")"
   ]
  },
  {
   "cell_type": "code",
   "execution_count": 23,
   "metadata": {},
   "outputs": [
    {
     "name": "stdout",
     "output_type": "stream",
     "text": [
      "All Same ComptrollerInterface.sol\n",
      "Different ./contracts/cErc20Delegator_4/CTokenInterfaces.sol ./contracts/cErc20Delegator_5/CTokenInterfaces.sol\n",
      "Different ./contracts/cErc20Delegator_4/InterestRateModel.sol ./contracts/cErc20Delegator_5/InterestRateModel.sol\n"
     ]
    }
   ],
   "source": [
    "compareCommonFilesInFoldersInRoot(None,[f\"./contracts/cErc20Delegator_{i}/\" for i in [4,5]])"
   ]
  },
  {
   "cell_type": "code",
   "execution_count": 30,
   "metadata": {},
   "outputs": [
    {
     "ename": "FileNotFoundError",
     "evalue": "[Errno 2] No such file or directory: './contracts/cErc20Delegator_4/ComptrollerInterface.sol'",
     "output_type": "error",
     "traceback": [
      "\u001b[1;31m---------------------------------------------------------------------------\u001b[0m",
      "\u001b[1;31mFileNotFoundError\u001b[0m                         Traceback (most recent call last)",
      "Cell \u001b[1;32mIn [30], line 2\u001b[0m\n\u001b[0;32m      1\u001b[0m toChecks \u001b[39m=\u001b[39m [[(folder\u001b[39m+\u001b[39mfile) \u001b[39mfor\u001b[39;00m folder \u001b[39min\u001b[39;00m [\u001b[39m\"\u001b[39m\u001b[39m./contracts/cErc20Delegator_4/\u001b[39m\u001b[39m\"\u001b[39m,\u001b[39m\"\u001b[39m\u001b[39m./contracts/Comptroller/StdComptrollerG4/\u001b[39m\u001b[39m\"\u001b[39m]] \u001b[39mfor\u001b[39;00m file \u001b[39min\u001b[39;00m [\u001b[39m\"\u001b[39m\u001b[39mComptrollerInterface.sol\u001b[39m\u001b[39m\"\u001b[39m,\u001b[39m\"\u001b[39m\u001b[39mInterestRateModel.sol\u001b[39m\u001b[39m\"\u001b[39m,\u001b[39m\"\u001b[39m\u001b[39mCTokenInterfaces.sol\u001b[39m\u001b[39m\"\u001b[39m]]\n\u001b[1;32m----> 2\u001b[0m compareFilesinList(toChecks)\n\u001b[0;32m      3\u001b[0m \u001b[39mprint\u001b[39m()\n\u001b[0;32m      5\u001b[0m toChecks \u001b[39m=\u001b[39m [[(folder\u001b[39m+\u001b[39mfile) \u001b[39mfor\u001b[39;00m folder \u001b[39min\u001b[39;00m [\u001b[39m\"\u001b[39m\u001b[39m./contracts/cErc20Delegator_4/\u001b[39m\u001b[39m\"\u001b[39m,\u001b[39m\"\u001b[39m\u001b[39m./contracts/Comptroller/StdComptrollerG5/\u001b[39m\u001b[39m\"\u001b[39m]] \u001b[39mfor\u001b[39;00m file \u001b[39min\u001b[39;00m [\u001b[39m\"\u001b[39m\u001b[39mComptrollerInterface.sol\u001b[39m\u001b[39m\"\u001b[39m,\u001b[39m\"\u001b[39m\u001b[39mInterestRateModel.sol\u001b[39m\u001b[39m\"\u001b[39m,\u001b[39m\"\u001b[39m\u001b[39mCTokenInterfaces.sol\u001b[39m\u001b[39m\"\u001b[39m]]\n",
      "Cell \u001b[1;32mIn [24], line 5\u001b[0m, in \u001b[0;36mcompareFilesinList\u001b[1;34m(toChecks)\u001b[0m\n\u001b[0;32m      3\u001b[0m res \u001b[39m=\u001b[39m []\n\u001b[0;32m      4\u001b[0m \u001b[39mfor\u001b[39;00m i \u001b[39min\u001b[39;00m \u001b[39mrange\u001b[39m(\u001b[39mlen\u001b[39m(toCheck)\u001b[39m-\u001b[39m\u001b[39m1\u001b[39m):\n\u001b[1;32m----> 5\u001b[0m     res\u001b[39m.\u001b[39mappend(compareFiles(toCheck[i],toCheck[i\u001b[39m+\u001b[39;49m\u001b[39m1\u001b[39;49m]))\n\u001b[0;32m      6\u001b[0m     \u001b[39mif\u001b[39;00m \u001b[39mnot\u001b[39;00m res[i]:\n\u001b[0;32m      7\u001b[0m         \u001b[39mprint\u001b[39m(\u001b[39m\"\u001b[39m\u001b[39mDifferent\u001b[39m\u001b[39m\"\u001b[39m, toCheck[i],toCheck[i\u001b[39m+\u001b[39m\u001b[39m1\u001b[39m])\n",
      "Cell \u001b[1;32mIn [14], line 3\u001b[0m, in \u001b[0;36mcompareFiles\u001b[1;34m(fn1, fn2)\u001b[0m\n\u001b[0;32m      1\u001b[0m \u001b[39mdef\u001b[39;00m \u001b[39mcompareFiles\u001b[39m(fn1, fn2):\n\u001b[1;32m----> 3\u001b[0m     f1 \u001b[39m=\u001b[39m \u001b[39mopen\u001b[39;49m(fn1, \u001b[39m\"\u001b[39;49m\u001b[39mr\u001b[39;49m\u001b[39m\"\u001b[39;49m)  \n\u001b[0;32m      4\u001b[0m     f2 \u001b[39m=\u001b[39m \u001b[39mopen\u001b[39m(fn2, \u001b[39m\"\u001b[39m\u001b[39mr\u001b[39m\u001b[39m\"\u001b[39m)\n\u001b[0;32m      6\u001b[0m     isSame \u001b[39m=\u001b[39m \u001b[39mTrue\u001b[39;00m\n",
      "\u001b[1;31mFileNotFoundError\u001b[0m: [Errno 2] No such file or directory: './contracts/cErc20Delegator_4/ComptrollerInterface.sol'"
     ]
    }
   ],
   "source": [
    "toChecks = [[(folder+file) for folder in [\"./contracts/cErc20Delegator_4/\",\"./contracts/Comptroller/StdComptrollerG4/\"]] for file in [\"ComptrollerInterface.sol\",\"InterestRateModel.sol\",\"CTokenInterfaces.sol\"]]\n",
    "compareFilesinList(toChecks)\n",
    "print()\n",
    "\n",
    "toChecks = [[(folder+file) for folder in [\"./contracts/cErc20Delegator_4/\",\"./contracts/Comptroller/StdComptrollerG5/\"]] for file in [\"ComptrollerInterface.sol\",\"InterestRateModel.sol\",\"CTokenInterfaces.sol\"]]\n",
    "compareFilesinList(toChecks)\n",
    "print()\n",
    "\n",
    "toChecks = [[(folder+file) for folder in [\"./contracts/cErc20Delegator_5/\",\"./contracts/Comptroller/StdComptrollerG4/\"]] for file in [\"ComptrollerInterface.sol\",\"InterestRateModel.sol\",\"CTokenInterfaces.sol\"]]\n",
    "compareFilesinList(toChecks)\n",
    "print()\n",
    "\n",
    "toChecks = [[(folder+file) for folder in [\"./contracts/cErc20Delegator_5/\",\"./contracts/Comptroller/StdComptrollerG5/\"]] for file in [\"ComptrollerInterface.sol\",\"InterestRateModel.sol\",\"CTokenInterfaces.sol\"]]\n",
    "compareFilesinList(toChecks)\n",
    "print()"
   ]
  },
  {
   "cell_type": "code",
   "execution_count": 25,
   "metadata": {},
   "outputs": [
    {
     "data": {
      "text/plain": [
       "[['./contracts/cErc20Delegator_4/ComptrollerInterface.sol',\n",
       "  './contracts/cErc20Delegator_5/ComptrollerInterface.sol'],\n",
       " ['./contracts/cErc20Delegator_4/InterestRateModel.sol',\n",
       "  './contracts/cErc20Delegator_5/InterestRateModel.sol']]"
      ]
     },
     "execution_count": 25,
     "metadata": {},
     "output_type": "execute_result"
    }
   ],
   "source": [
    "[[(folder+file) for folder in [f\"./contracts/cErc20Delegator_{i}/\" for i in [4,5]]] for file in [\"ComptrollerInterface.sol\",\"InterestRateModel.sol\"]]"
   ]
  },
  {
   "cell_type": "code",
   "execution_count": 31,
   "metadata": {},
   "outputs": [
    {
     "name": "stdout",
     "output_type": "stream",
     "text": [
      "All Same ['./contracts/cErc20Delegator_5/EIP20NonStandardInterface.sol', './contracts/Comptroller/StdComptrollerG5/EIP20NonStandardInterface.sol']\n",
      "\n"
     ]
    }
   ],
   "source": [
    "toChecks = [[(folder+\"EIP20NonStandardInterface.sol\") for folder in [\"./contracts/cErc20Delegator_5/\",\"./contracts/Comptroller/StdComptrollerG5/\"]]]\n",
    "compareFilesinList(toChecks)\n",
    "print()"
   ]
  },
  {
   "cell_type": "code",
   "execution_count": null,
   "metadata": {},
   "outputs": [],
   "source": []
  }
 ],
 "metadata": {
  "kernelspec": {
   "display_name": "Python 3.9.13 64-bit (microsoft store)",
   "language": "python",
   "name": "python3"
  },
  "language_info": {
   "codemirror_mode": {
    "name": "ipython",
    "version": 3
   },
   "file_extension": ".py",
   "mimetype": "text/x-python",
   "name": "python",
   "nbconvert_exporter": "python",
   "pygments_lexer": "ipython3",
   "version": "3.9.13"
  },
  "orig_nbformat": 4,
  "vscode": {
   "interpreter": {
    "hash": "56c7ecce51139da197b3c408f03eac3d1a94ce458b8847f2409aebcc42f02287"
   }
  }
 },
 "nbformat": 4,
 "nbformat_minor": 2
}
